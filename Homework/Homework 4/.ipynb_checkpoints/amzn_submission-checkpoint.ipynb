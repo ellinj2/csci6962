{
 "cells": [
  {
   "cell_type": "code",
   "execution_count": null,
   "id": "cf9c349f-20e1-4ca0-b902-ad43b917457e",
   "metadata": {},
   "outputs": [],
   "source": [
    "import pandas as pd"
   ]
  },
  {
   "cell_type": "code",
   "execution_count": null,
   "id": "53367dc6-f044-457b-9d88-d61278b01bd9",
   "metadata": {},
   "outputs": [],
   "source": [
    "train_df = pd.read_csv(\"AmznData/train.csv\")"
   ]
  },
  {
   "cell_type": "code",
   "execution_count": null,
   "id": "e00655c0-baf0-4817-af3f-5d597912d497",
   "metadata": {},
   "outputs": [],
   "source": [
    "train_df.head()"
   ]
  },
  {
   "cell_type": "code",
   "execution_count": null,
   "id": "ed3cb854-f042-4822-94c9-69410a2a435c",
   "metadata": {},
   "outputs": [],
   "source": []
  }
 ],
 "metadata": {
  "kernelspec": {
   "display_name": "Python 3 (ipykernel)",
   "language": "python",
   "name": "python3"
  },
  "language_info": {
   "codemirror_mode": {
    "name": "ipython",
    "version": 3
   },
   "file_extension": ".py",
   "mimetype": "text/x-python",
   "name": "python",
   "nbconvert_exporter": "python",
   "pygments_lexer": "ipython3",
   "version": "3.10.5"
  }
 },
 "nbformat": 4,
 "nbformat_minor": 5
}
