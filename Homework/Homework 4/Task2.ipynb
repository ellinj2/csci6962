{
 "cells": [
  {
   "cell_type": "code",
   "execution_count": 19,
   "id": "caf6c6b1-1403-4ff3-87e9-aa6499268600",
   "metadata": {},
   "outputs": [],
   "source": [
    "import gensim\n",
    "import numpy as np"
   ]
  },
  {
   "cell_type": "markdown",
   "id": "a30d26e5-d9f6-4044-a6b9-5e8578909f9b",
   "metadata": {},
   "source": [
    "### NOTE: This model is not stored in GitHub due to file size limitations. The model was downloaded from https://drive.google.com/file/d/0B7XkCwpI5KDYNlNUTTlSS21pQmM/edit?resourcekey=0-wjGZdNAUop6WykTtMip30g"
   ]
  },
  {
   "cell_type": "code",
   "execution_count": 6,
   "id": "53ff53f1-e2a9-47a1-b521-512a91904f34",
   "metadata": {},
   "outputs": [],
   "source": [
    "model = gensim.models.KeyedVectors.load_word2vec_format('GoogleNews-vectors-negative300.bin.gz', binary=True)"
   ]
  },
  {
   "cell_type": "markdown",
   "id": "d7e0159f-ec27-42a9-a2fa-61f462041c5e",
   "metadata": {},
   "source": [
    "### Dissimilarity Metric\n",
    "Since we are using cosine similarity for the similarity metric, which has a best possible score of 1, we will use 1-cosine similarity for dissimilarity metric, which should show us how far from perfect the vectors are"
   ]
  },
  {
   "cell_type": "code",
   "execution_count": 41,
   "id": "4d77b37e-351f-4e23-826b-54ddf06ea4d7",
   "metadata": {},
   "outputs": [],
   "source": [
    "def similarity(t1, t2, model):\n",
    "    print(f\"Similarity between \\\"{t1}\\\" and \\\"{t2}\\\" : {model.similarity(t1,t2)}\")\n",
    "    \n",
    "def dissimilarity(t1, t2, model):\n",
    "    print(f\"Dissimilarity between \\\"{t1}\\\" and \\\"{t2}\\\" : {1 - model.similarity(t1,t2)}\")"
   ]
  },
  {
   "cell_type": "code",
   "execution_count": 46,
   "id": "b4da0a1b-df5a-4989-8de3-b5457e29b791",
   "metadata": {},
   "outputs": [],
   "source": [
    "def process(input1, input2, model):\n",
    "    similarity(input1, input2, model)\n",
    "    dissimilarity(input1, input2, model)"
   ]
  },
  {
   "cell_type": "code",
   "execution_count": 47,
   "id": "0f966e85-8e51-4595-85ed-1074cd06b1f3",
   "metadata": {},
   "outputs": [
    {
     "name": "stdin",
     "output_type": "stream",
     "text": [
      " Hello\n",
      " World\n"
     ]
    },
    {
     "name": "stdout",
     "output_type": "stream",
     "text": [
      "Similarity between \"Hello\" and \"World\" : 0.1770041286945343\n",
      "Dissimilarity between \"Hello\" and \"World\" : 0.8229958713054657\n"
     ]
    }
   ],
   "source": [
    "process(input(), input(), model)"
   ]
  },
  {
   "cell_type": "code",
   "execution_count": null,
   "id": "204cf26e-83e2-422f-b4c0-f1d794acce6f",
   "metadata": {},
   "outputs": [],
   "source": []
  }
 ],
 "metadata": {
  "kernelspec": {
   "display_name": "csci6962_venv",
   "language": "python",
   "name": "csci6962_venv"
  },
  "language_info": {
   "codemirror_mode": {
    "name": "ipython",
    "version": 3
   },
   "file_extension": ".py",
   "mimetype": "text/x-python",
   "name": "python",
   "nbconvert_exporter": "python",
   "pygments_lexer": "ipython3",
   "version": "3.10.2"
  }
 },
 "nbformat": 4,
 "nbformat_minor": 5
}
