{
 "cells": [
  {
   "cell_type": "markdown",
   "id": "50a6d324-85f4-4924-ab87-221d989ce1f8",
   "metadata": {},
   "source": [
    "# Homework 2\n",
    "## Jesse Ellin\n",
    "## Ensemble Learning"
   ]
  },
  {
   "cell_type": "code",
   "execution_count": 1,
   "id": "0d08717d-e70e-4cc0-844a-ad6227afde84",
   "metadata": {},
   "outputs": [],
   "source": [
    "import pandas as pd\n",
    "import numpy as np\n",
    "import seaborn as sns\n",
    "from sklearn.model_selection import train_test_split, cross_val_score, RepeatedStratifiedKFold, learning_curve\n",
    "from sklearn.preprocessing import Normalizer\n",
    "from sklearn.metrics import f1_score, accuracy_score, log_loss, recall_score, precision_score\n",
    "from sklearn.ensemble import RandomForestClassifier, GradientBoostingClassifier\n",
    "from tqdm.notebook import tqdm\n",
    "import matplotlib.pyplot as plt\n",
    "from time import time\n",
    "import matplotlib.pyplot as plt\n",
    "from sklearn.tree import DecisionTreeClassifier, plot_tree"
   ]
  },
  {
   "cell_type": "markdown",
   "id": "b7bdc764-f503-4abd-88ed-6d2c0fccdaa3",
   "metadata": {},
   "source": [
    "### Task 1\n",
    "For this task, I used the sklearn implementation for decision tree classifiers. I tweaked the criterion for splititng to see how different criteria impacts final results. As we see, the training time is slightly longer, likely due to the dataset being relatively small and log() taking longer to compute than substraction. We also see training accuracy is not impacted, since the trees keep splitting until the data is well-separated. Therefore, test accuracy is the more important factor to consider, and we see the entropy critrion performs better on our dataset out-of-sample. I believe this is due to the nature of our data. Since our data is not easily binarized (i.e. it is real float values, not boolean classifications), using a log-based criterion helps fit the tree to the data better."
   ]
  },
  {
   "cell_type": "code",
   "execution_count": 2,
   "id": "81cf1fa1-5ae8-465b-8e55-7f4770b8ef35",
   "metadata": {},
   "outputs": [],
   "source": [
    "class CustomDecisionTree:\n",
    "    def __init__(self, criterion=\"gini\", splitter=\"best\", max_depth=None, **kwargs):\n",
    "        self.model = DecisionTreeClassifier(criterion=criterion, splitter=splitter, max_depth=max_depth, **kwargs)\n",
    "    \n",
    "    def train(self, X, Y, **kwargs):\n",
    "        fig, ax = plt.subplots()\n",
    "        train_sizes, train_scores, test_scores, fit_times, _ = learning_curve(self.model, X, Y, return_times=True, train_sizes=[1])\n",
    "        ax.plot([i for i in range(len(train_scores[0]))], train_scores[0])\n",
    "        ax.set_xlabel(\"Epochs\")\n",
    "        ax.set_ylabel(\"Training Score\")\n",
    "        plt.show()\n",
    "        return self.model.fit(X, Y, **kwargs)\n",
    "\n",
    "    def predict(self, X):\n",
    "        return self.model.predict(X)"
   ]
  },
  {
   "cell_type": "markdown",
   "id": "f035d6ce-dc8a-456e-8023-35952b4118e8",
   "metadata": {},
   "source": [
    "Loading in the dataset"
   ]
  },
  {
   "cell_type": "code",
   "execution_count": 3,
   "id": "b55b4031-eadc-4818-a65b-eaeb8ca7023e",
   "metadata": {},
   "outputs": [],
   "source": [
    "with open(\"sonar.all-data\") as f:\n",
    "    data = f.read().strip().split('\\n')\n",
    "    readings = [[float(line.split(',')[i]) for line in data] for i in range(60)]\n",
    "    labels = [line.split(',')[-1] for line in data]"
   ]
  },
  {
   "cell_type": "code",
   "execution_count": 4,
   "id": "2eedf57d-65c3-4ea5-be12-66de38eae867",
   "metadata": {},
   "outputs": [],
   "source": [
    "data_dict = {f\"R{i+1}\" : readings[i] for i in range(60)}\n",
    "data_dict[\"Label\"] = labels\n",
    "df = pd.DataFrame(data_dict)"
   ]
  },
  {
   "cell_type": "code",
   "execution_count": 5,
   "id": "5866643c-c61a-43ed-b3a4-3678820fbe2d",
   "metadata": {},
   "outputs": [],
   "source": [
    "df[\"Label\"] = [1 if val == \"M\" else 0 for val in df[\"Label\"]]\n",
    "X = df.drop(columns=[\"Label\"]).to_numpy()\n",
    "Y = df[\"Label\"].to_numpy()\n",
    "X_train, X_test, Y_train, Y_test = train_test_split(X, Y, test_size=0.2, random_state=42)"
   ]
  },
  {
   "cell_type": "code",
   "execution_count": 6,
   "id": "280c9278-425d-4b26-b875-82d7c55e13c0",
   "metadata": {},
   "outputs": [],
   "source": [
    "transformer = Normalizer(norm=\"max\").fit(X_train)\n",
    "X_train = transformer.transform(X_train)\n",
    "X_test = transformer.transform(X_test)"
   ]
  },
  {
   "cell_type": "markdown",
   "id": "591ffe2c-6020-42a1-8975-41e6aab30f93",
   "metadata": {},
   "source": [
    "Running and analyzing the model"
   ]
  },
  {
   "cell_type": "code",
   "execution_count": 7,
   "id": "64533188-7d1b-438f-8419-47b49ff8a6e5",
   "metadata": {},
   "outputs": [],
   "source": [
    "gini_tree = CustomDecisionTree()\n",
    "entropy_tree = CustomDecisionTree(criterion=\"entropy\")"
   ]
  },
  {
   "cell_type": "code",
   "execution_count": 8,
   "id": "f64ad78c-2ad2-4e1f-8ec8-749fd2c9df10",
   "metadata": {},
   "outputs": [
    {
     "data": {
      "image/png": "[encoded data removed]",
      "text/plain": [
       "<Figure size 432x288 with 1 Axes>"
      ]
     },
     "metadata": {
      "needs_background": "light"
     },
     "output_type": "display_data"
    }
   ],
   "source": [
    "gini_start = time()\n",
    "gini_tree.train(X_train, Y_train)\n",
    "gini_time = time() - gini_start"
   ]
  },
  {
   "cell_type": "code",
   "execution_count": 9,
   "id": "9b62790c-8bc6-492e-add1-7546f8b365d8",
   "metadata": {},
   "outputs": [
    {
     "data": {
      "image/png": "[encoded data removed]",
      "text/plain": [
       "<Figure size 432x288 with 1 Axes>"
      ]
     },
     "metadata": {
      "needs_background": "light"
     },
     "output_type": "display_data"
    }
   ],
   "source": [
    "entropy_start = time()\n",
    "entropy_tree.train(X_train, Y_train)\n",
    "entropy_time = time() - entropy_start"
   ]
  },
  {
   "cell_type": "code",
   "execution_count": 10,
   "id": "c408dd27-a066-486c-ade1-793ca0c29a3d",
   "metadata": {},
   "outputs": [],
   "source": [
    "performance_df = pd.DataFrame(\n",
    "        {\n",
    "            \"Criterion\" : [\"Gini\", \"Entropy\"],\n",
    "            \"Training Time\" : [gini_time, entropy_time],\n",
    "            \"Training Accuracy\" : [\n",
    "                accuracy_score(gini_tree.predict(X_train), Y_train),\n",
    "                accuracy_score(entropy_tree.predict(X_train), Y_train)\n",
    "            ],\n",
    "            \"Training f1\" : [\n",
    "                f1_score(gini_tree.predict(X_train), Y_train),\n",
    "                f1_score(entropy_tree.predict(X_train), Y_train)    \n",
    "            ],\n",
    "            \"Test Accuracy\" : [\n",
    "                accuracy_score(gini_tree.predict(X_test), Y_test),\n",
    "                accuracy_score(entropy_tree.predict(X_test), Y_test)\n",
    "            ],\n",
    "            \"Test f1\" : [\n",
    "                f1_score(gini_tree.predict(X_test), Y_test),\n",
    "                f1_score(entropy_tree.predict(X_test), Y_test)\n",
    "            ]\n",
    "        }\n",
    ")"
   ]
  },
  {
   "cell_type": "code",
   "execution_count": 11,
   "id": "c51b70d7-5733-4bad-a583-e713d54c1ada",
   "metadata": {},
   "outputs": [
    {
     "data": {
      "text/html": [
       "<div>\n",
       "<style scoped>\n",
       "    .dataframe tbody tr th:only-of-type {\n",
       "        vertical-align: middle;\n",
       "    }\n",
       "\n",
       "    .dataframe tbody tr th {\n",
       "        vertical-align: top;\n",
       "    }\n",
       "\n",
       "    .dataframe thead th {\n",
       "        text-align: right;\n",
       "    }\n",
       "</style>\n",
       "<table border=\"1\" class=\"dataframe\">\n",
       "  <thead>\n",
       "    <tr style=\"text-align: right;\">\n",
       "      <th></th>\n",
       "      <th>Criterion</th>\n",
       "      <th>Training Time</th>\n",
       "      <th>Training Accuracy</th>\n",
       "      <th>Training f1</th>\n",
       "      <th>Test Accuracy</th>\n",
       "      <th>Test f1</th>\n",
       "    </tr>\n",
       "  </thead>\n",
       "  <tbody>\n",
       "    <tr>\n",
       "      <th>0</th>\n",
       "      <td>Gini</td>\n",
       "      <td>0.097047</td>\n",
       "      <td>1.0</td>\n",
       "      <td>1.0</td>\n",
       "      <td>0.666667</td>\n",
       "      <td>0.681818</td>\n",
       "    </tr>\n",
       "    <tr>\n",
       "      <th>1</th>\n",
       "      <td>Entropy</td>\n",
       "      <td>0.070382</td>\n",
       "      <td>1.0</td>\n",
       "      <td>1.0</td>\n",
       "      <td>0.761905</td>\n",
       "      <td>0.800000</td>\n",
       "    </tr>\n",
       "  </tbody>\n",
       "</table>\n",
       "</div>"
      ],
      "text/plain": [
       "  Criterion  Training Time  Training Accuracy  Training f1  Test Accuracy  \\\n",
       "0      Gini       0.097047                1.0          1.0       0.666667   \n",
       "1   Entropy       0.070382                1.0          1.0       0.761905   \n",
       "\n",
       "    Test f1  \n",
       "0  0.681818  \n",
       "1  0.800000  "
      ]
     },
     "execution_count": 11,
     "metadata": {},
     "output_type": "execute_result"
    }
   ],
   "source": [
    "performance_df"
   ]
  },
  {
   "cell_type": "code",
   "execution_count": 15,
   "id": "e46bf1d9-97b8-44be-b314-a31d09d11969",
   "metadata": {},
   "outputs": [
    {
     "data": {
      "image/png": "[encoded data removed]",
      "text/plain": [
       "<Figure size 432x288 with 1 Axes>"
      ]
     },
     "metadata": {
      "needs_background": "light"
     },
     "output_type": "display_data"
    }
   ],
   "source": [
    "fig, ax = plt.subplots()\n",
    "plot_tree(gini_tree.model, ax=ax)\n",
    "plt.show()"
   ]
  },
  {
   "cell_type": "code",
   "execution_count": 16,
   "id": "0847c21a-855f-4420-b90e-32e40d106f4c",
   "metadata": {},
   "outputs": [
    {
     "data": {
      "text/plain": [
       "<Figure size 432x288 with 0 Axes>"
      ]
     },
     "metadata": {},
     "output_type": "display_data"
    }
   ],
   "source": [
    "plt.clf()"
   ]
  },
  {
   "cell_type": "markdown",
   "id": "19bbd56f-a63e-4b88-8bf2-68d57859c04d",
   "metadata": {},
   "source": [
    "### Task 2\n",
    "As we can see from the 10-fold results, the Forest implementation seems to perform better on the data, although it does have a higher standard deviation, suggesting it might be more sensitive to variance."
   ]
  },
  {
   "cell_type": "code",
   "execution_count": 12,
   "id": "28ff3536-f0d3-4e07-9ad3-90b103f917f9",
   "metadata": {},
   "outputs": [],
   "source": [
    "class Forest:\n",
    "    def __init__(self, n_trees=60, criterion=\"gini\", splitter=\"best\", max_depth=None, min_size=None, sample_size=208):\n",
    "        self.trees = [CustomDecisionTree(criterion, splitter, max_depth) for _ in range(n_trees)]\n",
    "        self.sample_size = sample_size\n",
    "    \n",
    "    def get_params(self, **kwargs):\n",
    "        return {}\n",
    "    \n",
    "    def train(self, X, Y, **kwargs):\n",
    "        for tree in self.trees:\n",
    "            tree.train(X, Y, **kwargs)\n",
    "    \n",
    "    def fit(self, X, Y):\n",
    "        return self.train(X, Y)\n",
    "    \n",
    "    def predict(self, X):\n",
    "        predictions = [{} for _ in range(len(X))]\n",
    "        for prediction in [tree.predict(X) for tree in self.trees]:\n",
    "            for i in range(len(X)):\n",
    "                if prediction[i] not in predictions[i].keys():\n",
    "                    predictions[i][prediction[i]] = 0\n",
    "                predictions[i][prediction[i]] += 1\n",
    "        return np.array([max([pred for pred in predictions[i].keys()], key=lambda x : predictions[i][x]) for i in range(len(X))])"
   ]
  },
  {
   "cell_type": "code",
   "execution_count": 20,
   "id": "cd357764-e2ee-4785-b86a-4720e4d89c54",
   "metadata": {},
   "outputs": [],
   "source": [
    "class Booster:\n",
    "    def __init__(self, lr=0.01, estimators=None, n_estimators=10):\n",
    "        self.lr = lr\n",
    "        self.estimators = estimators\n",
    "        if not self.estimators:\n",
    "            self.estimators = [CustomDecisionTree(\"entropy\", max_depth=1) for _ in range(n_estimators)]\n",
    "        self.models = []\n",
    "    \n",
    "    def get_params(self, **kwargs):\n",
    "        return {}\n",
    "    \n",
    "    def train(self, X, Y):\n",
    "        errs = []\n",
    "        Y = np.where(Y==1, 1, -1)\n",
    "        w = np.array([1/len(X) for _ in range(len(X))])\n",
    "        for estimator in self.estimators:\n",
    "            estimator.train(X, Y, sample_weight=w)\n",
    "            y_pred = estimator.predict(X)\n",
    "            err_m = sum([w[i] * [1 if y_pred[i]==Y[i] else 0][0] for i in range(len(X))]) / sum(w)\n",
    "            errs.append(err_m)\n",
    "            alpha_m = np.log((1-err_m)/err_m)\n",
    "            w = [w[i] * np.exp(alpha_m * [1 if y_pred[i]==Y[i] else 0][0]) for i in range(len(X))]\n",
    "            self.models.append((alpha_m, estimator))\n",
    "\n",
    "    def fit(self, X, Y):\n",
    "        return self.train(X, Y)\n",
    "\n",
    "    def predict(self, X):\n",
    "        Y_pred = 0\n",
    "        for alpha, estimator in self.models:\n",
    "            Y_pred += alpha * estimator.predict(X)\n",
    "        Y_pred = np.where(Y_pred >= 0, 0, 1) #NOTE: Not sure why I had to invert this function. Seems to be an error with alpha_m being negative\n",
    "        return Y_pred"
   ]
  },
  {
   "cell_type": "code",
   "execution_count": 14,
   "id": "96d1cebd-d310-4e35-b3d0-1d112d415f26",
   "metadata": {},
   "outputs": [],
   "source": [
    "cv = RepeatedStratifiedKFold(n_splits=10, n_repeats=3, random_state=42)\n",
    "forest_scores = cross_val_score(Forest(), X_train, Y_train, scoring=\"accuracy\", cv=cv, n_jobs=-1, error_score=\"raise\")\n",
    "booster_scores = cross_val_score(Booster(), X_train, Y_train, scoring=\"accuracy\", cv=cv, n_jobs=-1, error_score=\"raise\")"
   ]
  },
  {
   "cell_type": "code",
   "execution_count": 15,
   "id": "b327caa1-ccc8-4f44-a2ed-52263febe6a3",
   "metadata": {},
   "outputs": [],
   "source": [
    "results_df = pd.DataFrame({\n",
    "    \"Model\" : [\"Forest\", \"Booster\"],\n",
    "    \"Mean\" : [np.mean(forest_scores), np.mean(booster_scores)],\n",
    "    \"Std\" : [np.std(forest_scores), np.std(booster_scores)]\n",
    "})"
   ]
  },
  {
   "cell_type": "code",
   "execution_count": 16,
   "id": "56fd5a0d-2b6a-4514-a605-712f0ffe14f5",
   "metadata": {},
   "outputs": [
    {
     "data": {
      "text/html": [
       "<div>\n",
       "<style scoped>\n",
       "    .dataframe tbody tr th:only-of-type {\n",
       "        vertical-align: middle;\n",
       "    }\n",
       "\n",
       "    .dataframe tbody tr th {\n",
       "        vertical-align: top;\n",
       "    }\n",
       "\n",
       "    .dataframe thead th {\n",
       "        text-align: right;\n",
       "    }\n",
       "</style>\n",
       "<table border=\"1\" class=\"dataframe\">\n",
       "  <thead>\n",
       "    <tr style=\"text-align: right;\">\n",
       "      <th></th>\n",
       "      <th>Model</th>\n",
       "      <th>Mean</th>\n",
       "      <th>Std</th>\n",
       "    </tr>\n",
       "  </thead>\n",
       "  <tbody>\n",
       "    <tr>\n",
       "      <th>0</th>\n",
       "      <td>Forest</td>\n",
       "      <td>0.762745</td>\n",
       "      <td>0.093985</td>\n",
       "    </tr>\n",
       "    <tr>\n",
       "      <th>1</th>\n",
       "      <td>Booster</td>\n",
       "      <td>0.740441</td>\n",
       "      <td>0.089329</td>\n",
       "    </tr>\n",
       "  </tbody>\n",
       "</table>\n",
       "</div>"
      ],
      "text/plain": [
       "     Model      Mean       Std\n",
       "0   Forest  0.762745  0.093985\n",
       "1  Booster  0.740441  0.089329"
      ]
     },
     "execution_count": 16,
     "metadata": {},
     "output_type": "execute_result"
    }
   ],
   "source": [
    "results_df"
   ]
  },
  {
   "cell_type": "markdown",
   "id": "13d0742c-67e2-4d9b-ae31-dcbe1070f433",
   "metadata": {},
   "source": [
    "### Task 3\n",
    "I will be evaluating the models based on the f1-score on the training data. While accuracy can be a useful metric for model performance, in this case, if our model is particularly good at classifying one case over the other (rock or cavern), we can decide which one is more important to us and transform the data appropriately. In the motivating context in Homework 1 (the lost hiker), it may be more important to us to have highly accuracte cavern prediction so we can know with good certainty if there is in fact a cavern they could have fallen into. In our case, the AdaBoost implementation performs best on this metric.\n",
    "\n",
    "Theoretically, different metrics could suggest different results in model comparisons. However, for this particular case, I tested accuracy, log_loss, training metrics, recall, and precision, and the only noticeable difference is how drastic the difference between models was, not the ordering of performance (i.e. while the metric values were different, the order of performance did not change). The training metrics show near equality between tree and forest, but this is to be expected by the nature of these models."
   ]
  },
  {
   "cell_type": "markdown",
   "id": "2afc61dd-3b38-479c-92c4-90691e407349",
   "metadata": {},
   "source": [
    "Note: I switch to the sklearn implementation here to get ready access to predict_prob for log_loss metric. This causes a shift in which model has superior performance, which is likely due to which criteria are available in the sklearn.ensemble.GradientBoostingClassifier implementation"
   ]
  },
  {
   "cell_type": "code",
   "execution_count": 17,
   "id": "81709df9-eb2a-492c-96c9-51aa3bf67a07",
   "metadata": {},
   "outputs": [],
   "source": [
    "tree = CustomDecisionTree(criterion=\"entropy\")\n",
    "forest = RandomForestClassifier(n_estimators=60, criterion=\"entropy\", verbose=2)\n",
    "booster = GradientBoostingClassifier(learning_rate=0.01, n_estimators=60, verbose=2)"
   ]
  },
  {
   "cell_type": "code",
   "execution_count": 18,
   "id": "a27c2111-269d-4ccf-8012-a1c3e2780220",
   "metadata": {},
   "outputs": [
    {
     "name": "stdout",
     "output_type": "stream",
     "text": [
      "Training custom tree\n"
     ]
    },
    {
     "data": {
      "image/png": "[encoded data removed]",
      "text/plain": [
       "<Figure size 432x288 with 1 Axes>"
      ]
     },
     "metadata": {
      "needs_background": "light"
     },
     "output_type": "display_data"
    },
    {
     "name": "stdout",
     "output_type": "stream",
     "text": [
      "Training forest\n",
      "building tree 1 of 60\n",
      "building tree 2 of 60\n",
      "building tree 3 of 60\n",
      "building tree 4 of 60\n",
      "building tree 5 of 60\n",
      "building tree 6 of 60\n",
      "building tree 7 of 60\n",
      "building tree 8 of 60\n",
      "building tree 9 of 60\n",
      "building tree 10 of 60\n",
      "building tree 11 of 60\n",
      "building tree 12 of 60\n",
      "building tree 13 of 60\n",
      "building tree 14 of 60\n",
      "building tree 15 of 60\n",
      "building tree 16 of 60\n",
      "building tree 17 of 60\n",
      "building tree 18 of 60\n",
      "building tree 19 of 60\n",
      "building tree 20 of 60\n",
      "building tree 21 of 60\n",
      "building tree 22 of 60\n",
      "building tree 23 of 60\n",
      "building tree 24 of 60\n",
      "building tree 25 of 60\n",
      "building tree 26 of 60\n",
      "building tree 27 of 60\n",
      "building tree 28 of 60\n",
      "building tree 29 of 60\n",
      "building tree 30 of 60\n",
      "building tree 31 of 60\n",
      "building tree 32 of 60\n",
      "building tree 33 of 60\n",
      "building tree 34 of 60\n",
      "building tree 35 of 60\n",
      "building tree 36 of 60\n",
      "building tree 37 of 60\n",
      "building tree 38 of 60\n",
      "building tree 39 of 60\n",
      "building tree 40 of 60\n",
      "building tree 41 of 60\n",
      "building tree 42 of 60\n",
      "building tree 43 of 60\n",
      "building tree 44 of 60\n",
      "building tree 45 of 60\n",
      "building tree 46 of 60\n",
      "building tree 47 of 60\n",
      "building tree 48 of 60\n",
      "building tree 49 of 60\n",
      "building tree 50 of 60\n",
      "building tree 51 of 60\n",
      "building tree 52 of 60\n",
      "building tree 53 of 60\n",
      "building tree 54 of 60\n",
      "building tree 55 of 60\n",
      "building tree 56 of 60\n",
      "building tree 57 of 60\n",
      "building tree 58 of 60\n",
      "building tree 59 of 60\n",
      "building tree 60 of 60\n",
      "Training booster\n",
      "      Iter       Train Loss   Remaining Time \n",
      "         1           1.3711            0.12s\n",
      "         2           1.3568            0.12s\n",
      "         3           1.3428            0.09s\n",
      "         4           1.3291            0.10s\n",
      "         5           1.3156            0.09s\n",
      "         6           1.3023            0.09s\n",
      "         7           1.2893            0.09s\n",
      "         8           1.2765            0.08s\n",
      "         9           1.2639            0.08s\n",
      "        10           1.2515            0.08s\n",
      "        11           1.2394            0.08s\n",
      "        12           1.2275            0.08s\n",
      "        13           1.2157            0.08s\n",
      "        14           1.2041            0.07s\n",
      "        15           1.1928            0.07s\n",
      "        16           1.1815            0.07s\n",
      "        17           1.1704            0.07s\n",
      "        18           1.1596            0.07s\n",
      "        19           1.1488            0.06s\n",
      "        20           1.1383            0.06s\n",
      "        21           1.1277            0.06s\n",
      "        22           1.1176            0.06s\n",
      "        23           1.1075            0.06s\n",
      "        24           1.0976            0.06s\n",
      "        25           1.0878            0.06s\n",
      "        26           1.0782            0.05s\n",
      "        27           1.0688            0.05s\n",
      "        28           1.0593            0.05s\n",
      "        29           1.0502            0.05s\n",
      "        30           1.0412            0.05s\n",
      "        31           1.0324            0.05s\n",
      "        32           1.0234            0.04s\n",
      "        33           1.0144            0.04s\n",
      "        34           1.0056            0.04s\n",
      "        35           0.9969            0.04s\n",
      "        36           0.9886            0.04s\n",
      "        37           0.9804            0.04s\n",
      "        38           0.9724            0.04s\n",
      "        39           0.9642            0.03s\n",
      "        40           0.9563            0.03s\n",
      "        41           0.9487            0.03s\n",
      "        42           0.9407            0.03s\n",
      "        43           0.9333            0.03s\n",
      "        44           0.9255            0.03s\n",
      "        45           0.9179            0.02s\n",
      "        46           0.9107            0.02s\n",
      "        47           0.9033            0.02s\n",
      "        48           0.8960            0.02s\n",
      "        49           0.8890            0.02s\n",
      "        50           0.8818            0.02s\n",
      "        51           0.8750            0.01s\n",
      "        52           0.8683            0.01s\n",
      "        53           0.8617            0.01s\n",
      "        54           0.8549            0.01s\n",
      "        55           0.8484            0.01s\n",
      "        56           0.8421            0.01s\n",
      "        57           0.8354            0.00s\n",
      "        58           0.8292            0.00s\n",
      "        59           0.8231            0.00s\n",
      "        60           0.8167            0.00s\n"
     ]
    },
    {
     "name": "stderr",
     "output_type": "stream",
     "text": [
      "[Parallel(n_jobs=1)]: Using backend SequentialBackend with 1 concurrent workers.\n",
      "[Parallel(n_jobs=1)]: Done   1 out of   1 | elapsed:    0.0s remaining:    0.0s\n",
      "[Parallel(n_jobs=1)]: Done  60 out of  60 | elapsed:    0.0s finished\n"
     ]
    },
    {
     "data": {
      "text/plain": [
       "GradientBoostingClassifier(learning_rate=0.01, n_estimators=60, verbose=2)"
      ]
     },
     "execution_count": 18,
     "metadata": {},
     "output_type": "execute_result"
    }
   ],
   "source": [
    "print(\"Training custom tree\")\n",
    "tree.train(X_train, Y_train)\n",
    "print(\"Training forest\")\n",
    "forest.fit(X_train, Y_train)\n",
    "print(\"Training booster\")\n",
    "booster.fit(X_train, Y_train)"
   ]
  },
  {
   "cell_type": "code",
   "execution_count": 19,
   "id": "d84dab53-7a84-4e35-b837-1281aa010f43",
   "metadata": {},
   "outputs": [
    {
     "name": "stderr",
     "output_type": "stream",
     "text": [
      "[Parallel(n_jobs=1)]: Using backend SequentialBackend with 1 concurrent workers.\n",
      "[Parallel(n_jobs=1)]: Done   1 out of   1 | elapsed:    0.0s remaining:    0.0s\n",
      "[Parallel(n_jobs=1)]: Done  60 out of  60 | elapsed:    0.0s finished\n",
      "[Parallel(n_jobs=1)]: Using backend SequentialBackend with 1 concurrent workers.\n",
      "[Parallel(n_jobs=1)]: Done   1 out of   1 | elapsed:    0.0s remaining:    0.0s\n",
      "[Parallel(n_jobs=1)]: Done  60 out of  60 | elapsed:    0.0s finished\n",
      "[Parallel(n_jobs=1)]: Using backend SequentialBackend with 1 concurrent workers.\n",
      "[Parallel(n_jobs=1)]: Done   1 out of   1 | elapsed:    0.0s remaining:    0.0s\n",
      "[Parallel(n_jobs=1)]: Done  60 out of  60 | elapsed:    0.0s finished\n",
      "[Parallel(n_jobs=1)]: Using backend SequentialBackend with 1 concurrent workers.\n",
      "[Parallel(n_jobs=1)]: Done   1 out of   1 | elapsed:    0.0s remaining:    0.0s\n",
      "[Parallel(n_jobs=1)]: Done  60 out of  60 | elapsed:    0.0s finished\n",
      "[Parallel(n_jobs=1)]: Using backend SequentialBackend with 1 concurrent workers.\n",
      "[Parallel(n_jobs=1)]: Done   1 out of   1 | elapsed:    0.0s remaining:    0.0s\n",
      "[Parallel(n_jobs=1)]: Done  60 out of  60 | elapsed:    0.0s finished\n",
      "[Parallel(n_jobs=1)]: Using backend SequentialBackend with 1 concurrent workers.\n",
      "[Parallel(n_jobs=1)]: Done   1 out of   1 | elapsed:    0.0s remaining:    0.0s\n",
      "[Parallel(n_jobs=1)]: Done  60 out of  60 | elapsed:    0.0s finished\n",
      "[Parallel(n_jobs=1)]: Using backend SequentialBackend with 1 concurrent workers.\n",
      "[Parallel(n_jobs=1)]: Done   1 out of   1 | elapsed:    0.0s remaining:    0.0s\n",
      "[Parallel(n_jobs=1)]: Done  60 out of  60 | elapsed:    0.0s finished\n",
      "[Parallel(n_jobs=1)]: Using backend SequentialBackend with 1 concurrent workers.\n",
      "[Parallel(n_jobs=1)]: Done   1 out of   1 | elapsed:    0.0s remaining:    0.0s\n",
      "[Parallel(n_jobs=1)]: Done  60 out of  60 | elapsed:    0.0s finished\n",
      "[Parallel(n_jobs=1)]: Using backend SequentialBackend with 1 concurrent workers.\n",
      "[Parallel(n_jobs=1)]: Done   1 out of   1 | elapsed:    0.0s remaining:    0.0s\n",
      "[Parallel(n_jobs=1)]: Done  60 out of  60 | elapsed:    0.0s finished\n",
      "[Parallel(n_jobs=1)]: Using backend SequentialBackend with 1 concurrent workers.\n",
      "[Parallel(n_jobs=1)]: Done   1 out of   1 | elapsed:    0.0s remaining:    0.0s\n",
      "[Parallel(n_jobs=1)]: Done  60 out of  60 | elapsed:    0.0s finished\n"
     ]
    }
   ],
   "source": [
    "results_df = pd.DataFrame({\n",
    "    \"Model\" : [\"Tree\", \"Forest\", \"Booster\"],\n",
    "    \"Training f1-score\" : [f1_score(tree.predict(X_train), Y_train),\n",
    "                  f1_score(forest.predict(X_train), Y_train),\n",
    "                  f1_score(booster.predict(X_train), Y_train)\n",
    "                 ],\n",
    "    \"Training log_loss\" : [log_loss(tree.predict(X_train), Y_train),\n",
    "                  log_loss(forest.predict(X_train), Y_train),\n",
    "                  log_loss(booster.predict(X_train), Y_train)\n",
    "                 ],\n",
    "    \"Training accuracy\" : [accuracy_score(tree.predict(X_train), Y_train),\n",
    "                  accuracy_score(forest.predict(X_train), Y_train),\n",
    "                  accuracy_score(booster.predict(X_train), Y_train)],\n",
    "    \"Training precision\" : [precision_score(tree.predict(X_train), Y_train),\n",
    "                  precision_score(forest.predict(X_train), Y_train),\n",
    "                  precision_score(booster.predict(X_train), Y_train)],\n",
    "    \"Training recall\" : [recall_score(tree.predict(X_train), Y_train),\n",
    "                  recall_score(forest.predict(X_train), Y_train),\n",
    "                  recall_score(booster.predict(X_train), Y_train)],\n",
    "    \"Testing f1-score\" : [f1_score(tree.predict(X_test), Y_test),\n",
    "                  f1_score(forest.predict(X_test), Y_test),\n",
    "                  f1_score(booster.predict(X_test), Y_test)\n",
    "                 ],\n",
    "    \"Testing log_loss\" : [log_loss(tree.predict(X_test), Y_test),\n",
    "                  log_loss(forest.predict(X_test), Y_test),\n",
    "                  log_loss(booster.predict(X_test), Y_test)\n",
    "                 ],\n",
    "    \"Testing accuracy\" : [accuracy_score(tree.predict(X_test), Y_test),\n",
    "                  accuracy_score(forest.predict(X_test), Y_test),\n",
    "                  accuracy_score(booster.predict(X_test), Y_test)],\n",
    "    \"Testing precision\" : [precision_score(tree.predict(X_test), Y_test),\n",
    "                  precision_score(forest.predict(X_test), Y_test),\n",
    "                  precision_score(booster.predict(X_test), Y_test)],\n",
    "    \"Testing recall\" : [recall_score(tree.predict(X_test), Y_test),\n",
    "                  recall_score(forest.predict(X_test), Y_test),\n",
    "                  recall_score(booster.predict(X_test), Y_test)]\n",
    "})"
   ]
  },
  {
   "cell_type": "code",
   "execution_count": 20,
   "id": "20b12991-c531-47a4-9d45-71ca150819bd",
   "metadata": {},
   "outputs": [
    {
     "data": {
      "text/html": [
       "<div>\n",
       "<style scoped>\n",
       "    .dataframe tbody tr th:only-of-type {\n",
       "        vertical-align: middle;\n",
       "    }\n",
       "\n",
       "    .dataframe tbody tr th {\n",
       "        vertical-align: top;\n",
       "    }\n",
       "\n",
       "    .dataframe thead th {\n",
       "        text-align: right;\n",
       "    }\n",
       "</style>\n",
       "<table border=\"1\" class=\"dataframe\">\n",
       "  <thead>\n",
       "    <tr style=\"text-align: right;\">\n",
       "      <th></th>\n",
       "      <th>Model</th>\n",
       "      <th>Training f1-score</th>\n",
       "      <th>Training log_loss</th>\n",
       "      <th>Training accuracy</th>\n",
       "      <th>Training precision</th>\n",
       "      <th>Training recall</th>\n",
       "      <th>Testing f1-score</th>\n",
       "      <th>Testing log_loss</th>\n",
       "      <th>Testing accuracy</th>\n",
       "      <th>Testing precision</th>\n",
       "      <th>Testing recall</th>\n",
       "    </tr>\n",
       "  </thead>\n",
       "  <tbody>\n",
       "    <tr>\n",
       "      <th>0</th>\n",
       "      <td>Tree</td>\n",
       "      <td>1.000000</td>\n",
       "      <td>9.992007e-16</td>\n",
       "      <td>1.000000</td>\n",
       "      <td>1.000000</td>\n",
       "      <td>1.000000</td>\n",
       "      <td>0.745098</td>\n",
       "      <td>10.690707</td>\n",
       "      <td>0.690476</td>\n",
       "      <td>0.730769</td>\n",
       "      <td>0.760000</td>\n",
       "    </tr>\n",
       "    <tr>\n",
       "      <th>1</th>\n",
       "      <td>Forest</td>\n",
       "      <td>1.000000</td>\n",
       "      <td>9.992007e-16</td>\n",
       "      <td>1.000000</td>\n",
       "      <td>1.000000</td>\n",
       "      <td>1.000000</td>\n",
       "      <td>0.833333</td>\n",
       "      <td>6.578929</td>\n",
       "      <td>0.809524</td>\n",
       "      <td>0.769231</td>\n",
       "      <td>0.909091</td>\n",
       "    </tr>\n",
       "    <tr>\n",
       "      <th>2</th>\n",
       "      <td>Booster</td>\n",
       "      <td>0.953488</td>\n",
       "      <td>1.664534e+00</td>\n",
       "      <td>0.951807</td>\n",
       "      <td>0.964706</td>\n",
       "      <td>0.942529</td>\n",
       "      <td>0.723404</td>\n",
       "      <td>10.690745</td>\n",
       "      <td>0.690476</td>\n",
       "      <td>0.653846</td>\n",
       "      <td>0.809524</td>\n",
       "    </tr>\n",
       "  </tbody>\n",
       "</table>\n",
       "</div>"
      ],
      "text/plain": [
       "     Model  Training f1-score  Training log_loss  Training accuracy  \\\n",
       "0     Tree           1.000000       9.992007e-16           1.000000   \n",
       "1   Forest           1.000000       9.992007e-16           1.000000   \n",
       "2  Booster           0.953488       1.664534e+00           0.951807   \n",
       "\n",
       "   Training precision  Training recall  Testing f1-score  Testing log_loss  \\\n",
       "0            1.000000         1.000000          0.745098         10.690707   \n",
       "1            1.000000         1.000000          0.833333          6.578929   \n",
       "2            0.964706         0.942529          0.723404         10.690745   \n",
       "\n",
       "   Testing accuracy  Testing precision  Testing recall  \n",
       "0          0.690476           0.730769        0.760000  \n",
       "1          0.809524           0.769231        0.909091  \n",
       "2          0.690476           0.653846        0.809524  "
      ]
     },
     "execution_count": 20,
     "metadata": {},
     "output_type": "execute_result"
    }
   ],
   "source": [
    "results_df"
   ]
  },
  {
   "cell_type": "code",
   "execution_count": null,
   "id": "f4c17353-f78a-40d3-84e2-1e398197a3c4",
   "metadata": {},
   "outputs": [],
   "source": []
  }
 ],
 "metadata": {
  "kernelspec": {
   "display_name": "Python 3 (ipykernel)",
   "language": "python",
   "name": "python3"
  },
  "language_info": {
   "codemirror_mode": {
    "name": "ipython",
    "version": 3
   },
   "file_extension": ".py",
   "mimetype": "text/x-python",
   "name": "python",
   "nbconvert_exporter": "python",
   "pygments_lexer": "ipython3",
   "version": "3.10.2"
  }
 },
 "nbformat": 4,
 "nbformat_minor": 5
}
